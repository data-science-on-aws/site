{
 "cells": [
  {
   "cell_type": "code",
   "execution_count": null,
   "metadata": {
    "tags": []
   },
   "outputs": [],
   "source": [
    "# %pip install s3fs seaborn xgboost pyarrow s3fs boto3==1.26.37 awswrangler --upgrade\n",
    "%pip install xgboost boto3 awswrangler --upgrade"
   ]
  },
  {
   "cell_type": "markdown",
   "metadata": {
    "id": "jqJhvRiKnlt4"
   },
   "source": [
    "## Downloading the data"
   ]
  },
  {
   "cell_type": "code",
   "execution_count": null,
   "metadata": {
    "id": "sT8xhqVq_167",
    "tags": []
   },
   "outputs": [],
   "source": [
    "import pandas as pd\n",
    "import numpy as np\n",
    "import boto3\n",
    "\n",
    "# To handle import certain amount of rows for parquet files\n",
    "import awswrangler as wr\n",
    "\n",
    "import seaborn as sns\n",
    "import matplotlib.pyplot as plt\n",
    "import plotly.express as px\n",
    "import matplotlib\n",
    "\n",
    "matplotlib.rcParams['figure.figsize'] = 10,10\n"
   ]
  },
  {
   "cell_type": "code",
   "execution_count": null,
   "metadata": {
    "tags": []
   },
   "outputs": [],
   "source": [
    "NUMBER_OF_RECORDS_USED = 1_000_000"
   ]
  },
  {
   "cell_type": "code",
   "execution_count": null,
   "metadata": {
    "tags": []
   },
   "outputs": [],
   "source": [
    "def list_s3_files_in_folder_using_client(bucket_name, prefix):\n",
    "    \"\"\"\n",
    "    This function will list down all files in a folder from S3 bucket\n",
    "    :return: None\n",
    "    \"\"\"\n",
    "    s3_client = boto3.client(\"s3\")\n",
    "    # bucket_name = \"testbucket-frompython-2\"\n",
    "    response = s3_client.list_objects_v2(Bucket=bucket_name, Prefix=prefix)\n",
    "    files = response.get(\"Contents\")\n",
    "    for file in files:\n",
    "        print(f\"file_name: {file['Key']}, size: {(file['Size']/1_000_000):,} MB\")\n",
    "        "
   ]
  },
  {
   "cell_type": "code",
   "execution_count": null,
   "metadata": {
    "tags": []
   },
   "outputs": [],
   "source": [
    "list_s3_files_in_folder_using_client('dsoaws', 'nyc-taxi-orig-cleaned-split-parquet-per-year')"
   ]
  },
  {
   "cell_type": "code",
   "execution_count": null,
   "metadata": {
    "colab": {
     "base_uri": "https://localhost:8080/",
     "height": 605
    },
    "id": "bESBph-Wxlmv",
    "outputId": "42ef3df6-2e57-466b-f4dd-1bc881b53ef2",
    "tags": []
   },
   "outputs": [],
   "source": [
    "# %%time\n",
    "\n",
    "# # Full year (2018) data is about 100 million rows\n",
    "\n",
    "# # Using panda\n",
    "# nyc_df_fare = pd.read_parquet('s3a://dsoaws/nyc-taxi-orig-cleaned-split-parquet-per-year/ride-fare/year=2018')\n",
    "# nyc_df_fare\n",
    "\n",
    "# # Instance: ml.m5.16xlarge\n",
    "# # CPU times: user 7.12 s, sys: 9.33 s, total: 16.5 s\n",
    "# # Wall time: 1min\n"
   ]
  },
  {
   "cell_type": "code",
   "execution_count": null,
   "metadata": {
    "tags": []
   },
   "outputs": [],
   "source": [
    "%%time\n",
    "\n",
    "# Using aws wrangler\n",
    "nyc_df_fare = wr.s3.read_parquet(path=\"s3://dsoaws/nyc-taxi-orig-cleaned-split-parquet-per-year/ride-fare/year=2019\", dataset=True)\n",
    "nyc_df_fare\n",
    "\n",
    "# Instance: ml.m5.16xlarge\n",
    "# CPU times: user 12.8 s, sys: 10.4 s, total: 23.3 s\n",
    "# Wall time: 19.8 s\n"
   ]
  },
  {
   "cell_type": "code",
   "execution_count": null,
   "metadata": {
    "tags": []
   },
   "outputs": [],
   "source": [
    "# import pyarrow.parquet as pq\n",
    "# import pyarrow as pa \n",
    "# import s3fs"
   ]
  },
  {
   "cell_type": "code",
   "execution_count": null,
   "metadata": {
    "tags": []
   },
   "outputs": [],
   "source": [
    "# %%time\n",
    "\n",
    "# # Using pyarrow\n",
    "# fs = s3fs.S3FileSystem()\n",
    "\n",
    "# bucket_uri = 's3://dsoaws/nyc-taxi-orig-cleaned-split-parquet-per-year/ride-fare/year=2019'\n",
    "# dataset = pq.ParquetDataset(bucket_uri, filesystem=fs)\n",
    "# # dataset = pa.dataset.dataset(bucket_uri, filesystem=fs)\n",
    "# table = dataset.read(use_threads=True)\n",
    "# nyc_df_fare = table.to_pandas(use_threads=True) \n",
    "\n",
    "# nyc_df_fare\n",
    "\n",
    "# # Instance: ml.m5.16xlarge\n",
    "# # CPU times: user 7.61 s, sys: 9.69 s, total: 17.3 s\n",
    "# # Wall time: 1min 2s\n"
   ]
  },
  {
   "cell_type": "code",
   "execution_count": null,
   "metadata": {
    "tags": []
   },
   "outputs": [],
   "source": [
    "# DO NOT use this since the data in tables are not in the same order, you will NOT be able to join it later on\n",
    "def get_nrows_parquet(s3_path: str, nrows: int = 1_000_000) -> pd.DataFrame:\n",
    "    # Reading in a small number of rows using awswrangler\n",
    "    dfs = wr.s3.read_parquet(path=s3_path, dataset=True,\n",
    "                            chunked=nrows)\n",
    "    for df in dfs:\n",
    "        return df"
   ]
  },
  {
   "cell_type": "code",
   "execution_count": null,
   "metadata": {
    "tags": []
   },
   "outputs": [],
   "source": [
    "%%time\n",
    "\n",
    "# Using aws wrangler\n",
    "nyc_df_info = wr.s3.read_parquet(path=\"s3://dsoaws/nyc-taxi-orig-cleaned-split-parquet-per-year/ride-info/year=2019\", dataset=True)\n",
    "nyc_df_info\n"
   ]
  },
  {
   "cell_type": "code",
   "execution_count": null,
   "metadata": {
    "tags": []
   },
   "outputs": [],
   "source": [
    "# %%time\n",
    "\n",
    "# nyc_df_metadata['ride_id'] = nyc_df_metadata['ride_id'].astype(str)\n",
    "# nyc_df_fare['ride_id'] = nyc_df_fare['ride_id'].astype(str)\n",
    "# nyc_df_pickup['ride_id'] = nyc_df_pickup['ride_id'].astype(str)\n",
    "# nyc_df_dropoff['ride_id'] = nyc_df_dropoff['ride_id'].astype(str)\n"
   ]
  },
  {
   "cell_type": "code",
   "execution_count": null,
   "metadata": {},
   "outputs": [],
   "source": [
    "# nyc_df_metadata.info()\n",
    "# nyc_df_fare.info()\n",
    "# nyc_df_pickup.info()\n",
    "# nyc_df_dropoff.info()"
   ]
  },
  {
   "cell_type": "code",
   "execution_count": null,
   "metadata": {
    "tags": []
   },
   "outputs": [],
   "source": [
    "%%time\n",
    "\n",
    "# Join different tables\n",
    "nyc_df = nyc_df_fare.merge(nyc_df_info, on='ride_id')"
   ]
  },
  {
   "cell_type": "code",
   "execution_count": null,
   "metadata": {
    "tags": []
   },
   "outputs": [],
   "source": [
    "%%time\n",
    "\n",
    "nyc_df.head(10)\n",
    "nyc_df.info()\n"
   ]
  },
  {
   "cell_type": "code",
   "execution_count": null,
   "metadata": {
    "tags": []
   },
   "outputs": [],
   "source": [
    "# Get memory usage\n",
    "memory_bytes = nyc_df.memory_usage(index=True, deep=True).sum()\n",
    "print(f'Full df memory usage: {(memory_bytes / 1_000_000_000):,} GBs')"
   ]
  },
  {
   "cell_type": "markdown",
   "metadata": {
    "id": "p436b7Dpyc91"
   },
   "source": [
    "## Data Preprocessing"
   ]
  },
  {
   "cell_type": "markdown",
   "metadata": {
    "id": "TGSo2FiQzG0P"
   },
   "source": [
    "We can see that the trip_duration field contains values in the range of 1-86390. So let's exclude the data that lies  outisde 2 standard deviations from the mean."
   ]
  },
  {
   "cell_type": "code",
   "execution_count": null,
   "metadata": {
    "tags": []
   },
   "outputs": [],
   "source": [
    "# Check for any null entries\n",
    "nyc_df.isnull().sum()"
   ]
  },
  {
   "cell_type": "markdown",
   "metadata": {
    "id": "dtcD_IFd0Y74"
   },
   "source": [
    "Now looking into the longitude the coordinates lies between (-74.53,-72.71) and the latitude coordinates lies between (40.44,41.09).\n",
    "But the pickup_latitude and pickup_longitude and dropoff_latitude and dropoff_laongitude lies outside this range. So let's clean them."
   ]
  },
  {
   "cell_type": "code",
   "execution_count": null,
   "metadata": {
    "colab": {
     "base_uri": "https://localhost:8080/",
     "height": 295
    },
    "id": "vq68kjIS2Xc_",
    "outputId": "55fcc164-8679-4ce8-8f7a-1d0e6c3a59ae",
    "tags": []
   },
   "outputs": [],
   "source": [
    "%%time\n",
    "\n",
    "nyc_df.describe()"
   ]
  },
  {
   "cell_type": "markdown",
   "metadata": {
    "id": "xy--vcNN3Lso"
   },
   "source": [
    "Now let's change the data type of pickup_datetime and dropoff_datetime fields as they may be useful later."
   ]
  },
  {
   "cell_type": "code",
   "execution_count": null,
   "metadata": {
    "colab": {
     "base_uri": "https://localhost:8080/"
    },
    "id": "NLRTjpv72mMp",
    "outputId": "b2cf5f42-ddc7-4707-a733-fd8a6c6b383a",
    "tags": []
   },
   "outputs": [],
   "source": [
    "nyc_df['pickup_at'] = nyc_df['pickup_at'].astype('datetime64')\n",
    "nyc_df['pickup_date'] = nyc_df['pickup_at'].dt.date\n",
    "nyc_df['pickup_date']"
   ]
  },
  {
   "cell_type": "code",
   "execution_count": null,
   "metadata": {
    "colab": {
     "base_uri": "https://localhost:8080/"
    },
    "id": "Ydgxt-W43yfJ",
    "outputId": "f6dc129f-d2ce-455d-e301-76c2d8c46190",
    "tags": []
   },
   "outputs": [],
   "source": [
    "nyc_df['dropoff_at'] = nyc_df['dropoff_at'].astype('datetime64')\n",
    "nyc_df['dropoff_date'] = nyc_df['dropoff_at'].dt.date\n",
    "nyc_df['dropoff_date']"
   ]
  },
  {
   "cell_type": "code",
   "execution_count": null,
   "metadata": {
    "colab": {
     "base_uri": "https://localhost:8080/"
    },
    "id": "QaW4bRJ-CIU5",
    "outputId": "3fb13c3f-51a2-4db8-c306-ad7b8e8daa1e",
    "tags": []
   },
   "outputs": [],
   "source": [
    "nyc_df['Month'] = nyc_df['pickup_at'].dt.month\n",
    "nyc_df['Month']"
   ]
  },
  {
   "cell_type": "code",
   "execution_count": null,
   "metadata": {
    "colab": {
     "base_uri": "https://localhost:8080/"
    },
    "id": "YciIeoEsCSun",
    "outputId": "beb9e900-c992-4c19-fff0-e705385d170e",
    "tags": []
   },
   "outputs": [],
   "source": [
    "nyc_df['Hour'] = nyc_df['pickup_at'].dt.hour\n",
    "nyc_df['Hour']"
   ]
  },
  {
   "cell_type": "code",
   "execution_count": null,
   "metadata": {
    "colab": {
     "base_uri": "https://localhost:8080/"
    },
    "id": "ps-ukk1LD-G4",
    "outputId": "20cd88ab-d44b-4664-bd18-50fe0ca3415f",
    "tags": []
   },
   "outputs": [],
   "source": [
    "nyc_df['Year'] = nyc_df['pickup_at'].dt.year\n",
    "nyc_df['Year']"
   ]
  },
  {
   "cell_type": "markdown",
   "metadata": {
    "id": "ElDdr4fS4WM8"
   },
   "source": [
    "## EDA"
   ]
  },
  {
   "cell_type": "code",
   "execution_count": null,
   "metadata": {
    "colab": {
     "base_uri": "https://localhost:8080/"
    },
    "id": "OdPUB7Fg5_oI",
    "outputId": "f81e0906-902b-44cd-b33e-716319ba2b9b",
    "tags": []
   },
   "outputs": [],
   "source": [
    "nyc_df.columns"
   ]
  },
  {
   "cell_type": "code",
   "execution_count": null,
   "metadata": {
    "colab": {
     "base_uri": "https://localhost:8080/",
     "height": 639
    },
    "id": "vFHS82i74XY4",
    "outputId": "0939a6b9-c2d4-46ab-e69b-d481564a6203",
    "tags": []
   },
   "outputs": [],
   "source": [
    "# plt.title(\"Distribution of total_amount\")\n",
    "# sns.histplot(nyc_df['total_amount'], bins=100)"
   ]
  },
  {
   "cell_type": "code",
   "execution_count": null,
   "metadata": {
    "colab": {
     "base_uri": "https://localhost:8080/",
     "height": 624
    },
    "id": "J2tdz81i9ysO",
    "outputId": "faa123d0-98d7-4bb8-cb83-f63d9d0a7c31",
    "tags": []
   },
   "outputs": [],
   "source": [
    "# nyc_df['log_total_amount']  = np.log(nyc_df['total_amount'].values+1)\n",
    "# plt.title('Distribution of total amount')\n",
    "# sns.histplot(nyc_df['log_total_amount'].values,bins=100)"
   ]
  },
  {
   "cell_type": "code",
   "execution_count": null,
   "metadata": {
    "colab": {
     "base_uri": "https://localhost:8080/",
     "height": 609
    },
    "id": "tsTxewfY-y7E",
    "outputId": "c07d9f62-0283-4ba3-e621-c0e89acdb854",
    "tags": []
   },
   "outputs": [],
   "source": [
    "# nyc_df.groupby('pickup_date').count() #['ride_id']\n",
    "# plt.plot(nyc_df.groupby('pickup_date').count(), 'o-', label='train')"
   ]
  },
  {
   "cell_type": "code",
   "execution_count": null,
   "metadata": {
    "colab": {
     "base_uri": "https://localhost:8080/",
     "height": 726
    },
    "id": "n1JcgjUPBEaR",
    "outputId": "f34295b5-f3cb-4517-fafa-9885a4c09080",
    "tags": []
   },
   "outputs": [],
   "source": [
    "# df = nyc_df.groupby('passenger_count')['total_amount'].mean()\n",
    "# plt.title('Distribution of trip_duration with respect to the trip_duration')\n",
    "# sns.barplot(df.index,df.values)"
   ]
  },
  {
   "cell_type": "markdown",
   "metadata": {
    "id": "e0t_pqTRByu7"
   },
   "source": [
    "We can see that the number of passengers has nothing to do with the trip_duration"
   ]
  },
  {
   "cell_type": "code",
   "execution_count": null,
   "metadata": {
    "colab": {
     "base_uri": "https://localhost:8080/",
     "height": 810
    },
    "id": "BR-GeqK76qPX",
    "outputId": "e672c35f-8f3c-4431-ceb9-96ad54936bf8"
   },
   "outputs": [],
   "source": [
    "# df = nyc_df.groupby('vendor_id')['trip_duration'].mean()\n",
    "# print(df)\n",
    "# plt.subplots(1,1,figsize=(15,10))\n",
    "# plt.ylim(ymin=800)\n",
    "# plt.ylim(ymax=842)\n",
    "# sns.barplot(df.index,df.values)\n",
    "# plt.title('Time per Vendor')\n",
    "# plt.legend(loc=0)\n",
    "# plt.ylabel('Time in Seconds')"
   ]
  },
  {
   "cell_type": "markdown",
   "metadata": {
    "id": "0Bm7HtZp7fhu"
   },
   "source": [
    "It doesn't seem to be like the trip_duration differs between the vendors."
   ]
  },
  {
   "cell_type": "code",
   "execution_count": null,
   "metadata": {
    "colab": {
     "base_uri": "https://localhost:8080/",
     "height": 743
    },
    "id": "qcwhjLcO7lzP",
    "outputId": "7405fa8f-cbd2-4b3c-97a9-4826e99d8ecf"
   },
   "outputs": [],
   "source": [
    "# df = nyc_df.groupby('store_and_fwd_flag')['trip_duration'].mean()\n",
    "# plt.subplots(1,1,figsize=(15,10))\n",
    "# plt.title('Time per store_and_fwd_flag')\n",
    "# plt.legend(loc=0)\n",
    "# plt.ylabel('Time in Seconds')\n",
    "# sns.barplot(df.index,df.values)"
   ]
  },
  {
   "cell_type": "markdown",
   "metadata": {
    "id": "m7IYsDyA9PjB"
   },
   "source": [
    "So it would seem that the store_and_fwd_flag discriminates well between travel times. Clearly there is a slight skew in the data where some of the vendor employees didn't record their travel times accurately."
   ]
  },
  {
   "cell_type": "markdown",
   "metadata": {
    "id": "3R1bZozuDFSk"
   },
   "source": [
    "## Splitting the data"
   ]
  },
  {
   "cell_type": "markdown",
   "metadata": {
    "id": "LjzdbcLZwQXh"
   },
   "source": [
    "Since we need data to train, validate and test them let's split the data using `train_test_split` from sklearn module\n",
    "\n",
    "Refernce:https://scikit-learn.org/stable/modules/generated/sklearn.model_selection.train_test_split.html"
   ]
  },
  {
   "cell_type": "code",
   "execution_count": null,
   "metadata": {
    "id": "1WyXY3nuDERO",
    "tags": []
   },
   "outputs": [],
   "source": [
    "from sklearn.model_selection import train_test_split\n",
    "\n",
    "train_val_df , test_df = train_test_split(nyc_df, test_size=0.2,random_state=42)\n",
    "train_df, val_df = train_test_split(train_val_df, test_size=0.25,random_state=42)"
   ]
  },
  {
   "cell_type": "code",
   "execution_count": null,
   "metadata": {
    "colab": {
     "base_uri": "https://localhost:8080/",
     "height": 605
    },
    "id": "fC8xa5dkD1yH",
    "outputId": "7c166e8f-f2fc-4e7c-c048-3c4f07081c4c",
    "tags": []
   },
   "outputs": [],
   "source": [
    "train_df"
   ]
  },
  {
   "cell_type": "code",
   "execution_count": null,
   "metadata": {
    "colab": {
     "base_uri": "https://localhost:8080/"
    },
    "id": "_QsmkpvWD5g_",
    "outputId": "4210fdc9-054b-4afd-8e8c-57d37fc32d16",
    "tags": []
   },
   "outputs": [],
   "source": [
    "%%time\n",
    "\n",
    "train_df.info()"
   ]
  },
  {
   "cell_type": "markdown",
   "metadata": {
    "id": "S97-G8VKKP5U"
   },
   "source": [
    "### Identifying input and output columns"
   ]
  },
  {
   "cell_type": "code",
   "execution_count": null,
   "metadata": {
    "colab": {
     "base_uri": "https://localhost:8080/",
     "height": 408
    },
    "id": "0SwgbYstLAu3",
    "outputId": "b16ea091-67ea-4d7d-d395-5b4c158a7b14",
    "tags": []
   },
   "outputs": [],
   "source": [
    "%%time\n",
    "\n",
    "train_df.corr()"
   ]
  },
  {
   "cell_type": "code",
   "execution_count": null,
   "metadata": {
    "id": "Wa4yVdO5KOi0",
    "tags": []
   },
   "outputs": [],
   "source": [
    "input_col = ['vendor_id','pickup_at','dropoff_at', 'passenger_count','store_and_fwd_flag']\n",
    "target_col = 'total_amount'"
   ]
  },
  {
   "cell_type": "code",
   "execution_count": null,
   "metadata": {
    "id": "DeUAZC5SMd0S",
    "tags": []
   },
   "outputs": [],
   "source": [
    "train_inputs = train_df[input_col].copy()\n",
    "train_targets = train_df[target_col].copy()"
   ]
  },
  {
   "cell_type": "code",
   "execution_count": null,
   "metadata": {
    "id": "07Tz-oiBMmzk",
    "tags": []
   },
   "outputs": [],
   "source": [
    "val_inputs = val_df[input_col].copy()\n",
    "val_targets = val_df[target_col].copy()"
   ]
  },
  {
   "cell_type": "code",
   "execution_count": null,
   "metadata": {
    "id": "2VGNFstCMrqq",
    "tags": []
   },
   "outputs": [],
   "source": [
    "test_inputs = test_df[input_col].copy()\n",
    "test_targets = test_df[target_col].copy()"
   ]
  },
  {
   "cell_type": "code",
   "execution_count": null,
   "metadata": {
    "id": "ECvvSRaMM41V",
    "tags": []
   },
   "outputs": [],
   "source": [
    "numeric_col = train_inputs.select_dtypes(include=np.number).columns.tolist()\n",
    "cate_col = train_inputs.select_dtypes('object').columns.tolist()"
   ]
  },
  {
   "cell_type": "code",
   "execution_count": null,
   "metadata": {
    "colab": {
     "base_uri": "https://localhost:8080/",
     "height": 417
    },
    "id": "9mvYfEWfNQpT",
    "outputId": "6e6bdc9c-f320-4eae-f751-06ab53f0f85d",
    "tags": []
   },
   "outputs": [],
   "source": [
    "train_inputs[numeric_col]"
   ]
  },
  {
   "cell_type": "code",
   "execution_count": null,
   "metadata": {
    "colab": {
     "base_uri": "https://localhost:8080/",
     "height": 417
    },
    "id": "AVUUYAWPNTMT",
    "outputId": "2e6e551f-b986-494c-d4f8-b5507fedc09d",
    "tags": []
   },
   "outputs": [],
   "source": [
    "train_inputs[cate_col]"
   ]
  },
  {
   "cell_type": "markdown",
   "metadata": {
    "id": "xh-4uIO0MzXJ"
   },
   "source": [
    "### Imputing missing values\n"
   ]
  },
  {
   "cell_type": "markdown",
   "metadata": {
    "id": "VRpLxMDwwAII"
   },
   "source": [
    "Imputing is an technique in which the fill in the missing numeric values based on some category. Here if we want we'll use SimpleImputer form sklearn moduel\n",
    "\n",
    "Reference:https://scikit-learn.org/stable/modules/generated/sklearn.impute.SimpleImputer.html"
   ]
  },
  {
   "cell_type": "code",
   "execution_count": null,
   "metadata": {
    "colab": {
     "base_uri": "https://localhost:8080/"
    },
    "id": "FQQS1B02MykV",
    "outputId": "1a2b0986-f958-4ec1-c0a7-584e1c0b6d30",
    "tags": []
   },
   "outputs": [],
   "source": [
    "%%time\n",
    "\n",
    "train_inputs[numeric_col].isna().sum()"
   ]
  },
  {
   "cell_type": "code",
   "execution_count": null,
   "metadata": {
    "colab": {
     "base_uri": "https://localhost:8080/"
    },
    "id": "eKS4wA8fNZgM",
    "outputId": "7f95c1dd-0152-428d-cfa6-dd017592ce4e",
    "tags": []
   },
   "outputs": [],
   "source": [
    "%%time\n",
    "\n",
    "val_inputs[numeric_col].isna().sum()"
   ]
  },
  {
   "cell_type": "code",
   "execution_count": null,
   "metadata": {
    "colab": {
     "base_uri": "https://localhost:8080/"
    },
    "id": "8E8FVEAMNdbC",
    "outputId": "20ad0e09-6793-4197-e191-f30cbeb87257",
    "tags": []
   },
   "outputs": [],
   "source": [
    "%%time\n",
    "\n",
    "test_inputs[numeric_col].isna().sum()"
   ]
  },
  {
   "cell_type": "markdown",
   "metadata": {
    "id": "DC0PvmmTNh2n"
   },
   "source": [
    "It seems like there are no missing values in the train,validation and test datasets."
   ]
  },
  {
   "cell_type": "markdown",
   "metadata": {
    "id": "Ii_Qs-79Noxh"
   },
   "source": [
    "### Scaling numeric values"
   ]
  },
  {
   "cell_type": "markdown",
   "metadata": {
    "id": "51AG7amVvyIY"
   },
   "source": [
    "Now let's scale the numeric values to in range of (0,1) \n",
    "\n",
    "Reference:https://scikit-learn.org/stable/modules/generated/sklearn.preprocessing.MinMaxScaler.html"
   ]
  },
  {
   "cell_type": "code",
   "execution_count": null,
   "metadata": {
    "colab": {
     "base_uri": "https://localhost:8080/",
     "height": 295
    },
    "id": "VqCU-SseNrpJ",
    "outputId": "929f761a-e593-4beb-ba69-ef7f3fb5f829",
    "tags": []
   },
   "outputs": [],
   "source": [
    "train_inputs[numeric_col].describe()"
   ]
  },
  {
   "cell_type": "code",
   "execution_count": null,
   "metadata": {
    "id": "d8rHQtFcNwoc",
    "tags": []
   },
   "outputs": [],
   "source": [
    "from sklearn.preprocessing import MinMaxScaler\n",
    "scaler = MinMaxScaler()"
   ]
  },
  {
   "cell_type": "code",
   "execution_count": null,
   "metadata": {
    "colab": {
     "base_uri": "https://localhost:8080/"
    },
    "id": "L8MDSgrSN37T",
    "outputId": "6d2a2d47-21ff-409f-f5ce-03e691b7af09",
    "tags": []
   },
   "outputs": [],
   "source": [
    "%%time\n",
    "\n",
    "scaler.fit(train_inputs[numeric_col])"
   ]
  },
  {
   "cell_type": "code",
   "execution_count": null,
   "metadata": {
    "id": "gLBS3dDeN7Xp",
    "tags": []
   },
   "outputs": [],
   "source": [
    "%%time\n",
    "\n",
    "train_inputs[numeric_col] = scaler.transform(train_inputs[numeric_col])\n",
    "val_inputs[numeric_col]  = scaler.transform(val_inputs[numeric_col])\n",
    "test_inputs[numeric_col] = scaler.transform(test_inputs[numeric_col])"
   ]
  },
  {
   "cell_type": "code",
   "execution_count": null,
   "metadata": {
    "colab": {
     "base_uri": "https://localhost:8080/",
     "height": 295
    },
    "id": "Xj8dmrilOO7L",
    "outputId": "980e4535-68e5-4288-8fcd-d3fa41b68595",
    "tags": []
   },
   "outputs": [],
   "source": [
    "train_inputs[numeric_col].describe()"
   ]
  },
  {
   "cell_type": "markdown",
   "metadata": {
    "id": "6CzKcimXOmlP"
   },
   "source": [
    "### Encoding categorical columns"
   ]
  },
  {
   "cell_type": "markdown",
   "metadata": {
    "id": "ahfy6rNRvWX9"
   },
   "source": [
    "Now are going to encode categorical columns using one hot encoder into one hot numeric array\n",
    "Reference:https://scikit-learn.org/stable/modules/generated/sklearn.preprocessing.OneHotEncoder.html"
   ]
  },
  {
   "cell_type": "code",
   "execution_count": null,
   "metadata": {
    "id": "eV3rvjwOOpHb",
    "tags": []
   },
   "outputs": [],
   "source": [
    "from sklearn.preprocessing import OneHotEncoder\n",
    "encoder  = OneHotEncoder(sparse=False,handle_unknown='ignore')"
   ]
  },
  {
   "cell_type": "code",
   "execution_count": null,
   "metadata": {
    "colab": {
     "base_uri": "https://localhost:8080/"
    },
    "id": "K_ZIxfOkOyUT",
    "outputId": "20b96680-2687-463a-f56e-28e914bd49e0",
    "tags": []
   },
   "outputs": [],
   "source": [
    "%%time\n",
    "\n",
    "encoder.fit(train_inputs[cate_col])"
   ]
  },
  {
   "cell_type": "code",
   "execution_count": null,
   "metadata": {
    "colab": {
     "base_uri": "https://localhost:8080/"
    },
    "id": "ozJlsxh5O-AD",
    "outputId": "575a905e-eb06-4e7e-f3f0-628cad0ea920",
    "tags": []
   },
   "outputs": [],
   "source": [
    "enc_col = encoder.get_feature_names(cate_col).tolist()\n",
    "enc_col"
   ]
  },
  {
   "cell_type": "code",
   "execution_count": null,
   "metadata": {
    "id": "rHwI0JFoPDG2",
    "tags": []
   },
   "outputs": [],
   "source": [
    "%%time\n",
    "\n",
    "train_inputs[enc_col] = encoder.transform(train_inputs[cate_col])\n",
    "val_inputs[enc_col] = encoder.transform(val_inputs[cate_col])\n",
    "test_inputs[enc_col] = encoder.transform(test_inputs[cate_col])"
   ]
  },
  {
   "cell_type": "code",
   "execution_count": null,
   "metadata": {
    "colab": {
     "base_uri": "https://localhost:8080/",
     "height": 417
    },
    "id": "NNL_fYswPkzO",
    "outputId": "bbbd6875-4948-4f75-d58a-3625481f638d",
    "tags": []
   },
   "outputs": [],
   "source": [
    "train_inputs[enc_col]"
   ]
  },
  {
   "cell_type": "code",
   "execution_count": null,
   "metadata": {
    "colab": {
     "base_uri": "https://localhost:8080/",
     "height": 605
    },
    "id": "QTFG70EfPmMi",
    "outputId": "9ddb7327-8493-4f63-c014-a7358d6be7be",
    "tags": []
   },
   "outputs": [],
   "source": [
    "val_inputs"
   ]
  },
  {
   "cell_type": "code",
   "execution_count": null,
   "metadata": {
    "id": "rJ4L0sNRPn6V",
    "tags": []
   },
   "outputs": [],
   "source": [
    "%%time\n",
    "\n",
    "x_train = train_inputs[numeric_col + enc_col]\n",
    "x_val = val_inputs[numeric_col+enc_col]\n",
    "x_test = test_inputs[numeric_col + enc_col]"
   ]
  },
  {
   "cell_type": "markdown",
   "metadata": {
    "id": "s3OaylADQchM"
   },
   "source": [
    "## Model"
   ]
  },
  {
   "cell_type": "markdown",
   "metadata": {
    "id": "fGv-pjZyun7-"
   },
   "source": [
    "### Linear model"
   ]
  },
  {
   "cell_type": "markdown",
   "metadata": {
    "id": "Fr4W9YBiuqe1"
   },
   "source": [
    "Linear Regression is a machine learning algorithm based on supervised learning. It performs a regression task. Regression models a target prediction value based on independent variables. It is mostly used for finding out the relationship between variables and forecasting. \n",
    "Reference:https://machinelearningmastery.com/linear-regression-for-machine-learning/"
   ]
  },
  {
   "cell_type": "code",
   "execution_count": null,
   "metadata": {
    "id": "wsIlv8mCPurU",
    "tags": []
   },
   "outputs": [],
   "source": [
    "from sklearn.linear_model import LinearRegression"
   ]
  },
  {
   "cell_type": "code",
   "execution_count": null,
   "metadata": {
    "id": "3RMGeBhLQiO9",
    "tags": []
   },
   "outputs": [],
   "source": [
    "model = LinearRegression()"
   ]
  },
  {
   "cell_type": "code",
   "execution_count": null,
   "metadata": {
    "colab": {
     "base_uri": "https://localhost:8080/"
    },
    "id": "E8UrfswVQnFk",
    "outputId": "945e1bc1-e303-46da-f319-7cf8ca53572d",
    "tags": []
   },
   "outputs": [],
   "source": [
    "%%time\n",
    "\n",
    "model.fit(x_train,train_targets)"
   ]
  },
  {
   "cell_type": "code",
   "execution_count": null,
   "metadata": {
    "colab": {
     "base_uri": "https://localhost:8080/"
    },
    "id": "5jilHj00Qp77",
    "outputId": "dd2e4c06-b49c-4f67-ce00-c013bf1053bb",
    "tags": []
   },
   "outputs": [],
   "source": [
    "%%time\n",
    "\n",
    "model.predict(x_train)"
   ]
  },
  {
   "cell_type": "code",
   "execution_count": null,
   "metadata": {
    "colab": {
     "base_uri": "https://localhost:8080/"
    },
    "id": "WYZFyhpSRKad",
    "outputId": "cc5ddb41-7d81-4db0-826b-600b2e169ac3",
    "tags": []
   },
   "outputs": [],
   "source": [
    "train_targets"
   ]
  },
  {
   "cell_type": "code",
   "execution_count": null,
   "metadata": {
    "colab": {
     "base_uri": "https://localhost:8080/"
    },
    "id": "gXOu2gl2T9kX",
    "outputId": "41dc7b0c-4688-437e-9bda-2d636c13b780",
    "tags": []
   },
   "outputs": [],
   "source": [
    "from sklearn.metrics import mean_squared_error\n",
    "mean_squared_error(model.predict(x_train),train_targets,squared=False)"
   ]
  },
  {
   "cell_type": "code",
   "execution_count": null,
   "metadata": {
    "colab": {
     "base_uri": "https://localhost:8080/"
    },
    "id": "r9PMJo6kUj46",
    "outputId": "ecb9d764-fe4a-4cf4-b53c-c27024803600",
    "tags": []
   },
   "outputs": [],
   "source": [
    "mean_squared_error(model.predict(x_val),val_targets,squared=False)"
   ]
  },
  {
   "cell_type": "markdown",
   "metadata": {
    "id": "w56MGeYXUItG"
   },
   "source": [
    "## XGBoost"
   ]
  },
  {
   "cell_type": "markdown",
   "metadata": {
    "id": "O7WVaBMJtB-O"
   },
   "source": [
    "XGBoost is an powerful approach for solving regresion models.Since we are dealing regression problems, we are now going to use xgboost model\n",
    "Reference:https://xgboost.readthedocs.io/en/latest/"
   ]
  },
  {
   "cell_type": "code",
   "execution_count": null,
   "metadata": {
    "tags": []
   },
   "outputs": [],
   "source": [
    "import xgboost\n",
    "\n",
    "print(xgboost.__version__)"
   ]
  },
  {
   "cell_type": "code",
   "execution_count": null,
   "metadata": {
    "id": "1KyMWXWcUKn7",
    "tags": []
   },
   "outputs": [],
   "source": [
    "from xgboost import XGBRegressor\n",
    "model =  XGBRegressor(n_jobs=-1,random_state=42)"
   ]
  },
  {
   "cell_type": "code",
   "execution_count": null,
   "metadata": {
    "colab": {
     "base_uri": "https://localhost:8080/"
    },
    "id": "AOAElqD2UUo1",
    "outputId": "05f2fbf9-6ec2-4539-8fc5-d50ee9fb1ecf",
    "tags": []
   },
   "outputs": [],
   "source": [
    "%%time\n",
    "\n",
    "model.fit(x_train,train_targets)"
   ]
  },
  {
   "cell_type": "code",
   "execution_count": null,
   "metadata": {
    "colab": {
     "base_uri": "https://localhost:8080/"
    },
    "id": "XhIqMNaAUXjU",
    "outputId": "55d0d12e-6c71-41dc-aa18-27e9c48af31a",
    "tags": []
   },
   "outputs": [],
   "source": [
    "%%time\n",
    "\n",
    "model.predict(x_train)"
   ]
  },
  {
   "cell_type": "code",
   "execution_count": null,
   "metadata": {
    "colab": {
     "base_uri": "https://localhost:8080/"
    },
    "id": "HsVJAPPKVpaP",
    "outputId": "53345df2-8610-43ae-8b1b-72af6915143e",
    "tags": []
   },
   "outputs": [],
   "source": [
    "mean_squared_error(model.predict(x_train),train_targets,squared=False)"
   ]
  },
  {
   "cell_type": "code",
   "execution_count": null,
   "metadata": {
    "colab": {
     "base_uri": "https://localhost:8080/"
    },
    "id": "4OZ5ugcgVyjF",
    "outputId": "ab4b52fa-0d8e-4027-d9f8-0e06ca3626f8",
    "tags": []
   },
   "outputs": [],
   "source": [
    "mean_squared_error(model.predict(x_val),val_targets,squared=False)"
   ]
  },
  {
   "cell_type": "markdown",
   "metadata": {
    "id": "aGvQ_BcGWB6M"
   },
   "source": [
    "Now let's visualize the model"
   ]
  },
  {
   "cell_type": "code",
   "execution_count": null,
   "metadata": {
    "tags": []
   },
   "outputs": [],
   "source": [
    "# %pip install graphviz"
   ]
  },
  {
   "cell_type": "code",
   "execution_count": null,
   "metadata": {
    "colab": {
     "base_uri": "https://localhost:8080/",
     "height": 416
    },
    "id": "TCrTV5yyWD2n",
    "outputId": "28465665-394e-4f08-f284-5e7a77059c2d",
    "tags": []
   },
   "outputs": [],
   "source": [
    "# from xgboost import plot_tree\n",
    "# matplotlib.rcParams['figure.figsize']  = 20,20\n",
    "# plot_tree(model,rankdir='LR')"
   ]
  },
  {
   "cell_type": "code",
   "execution_count": null,
   "metadata": {
    "colab": {
     "base_uri": "https://localhost:8080/",
     "height": 421
    },
    "id": "aMBjhjjQWvNk",
    "outputId": "6fb02aac-0a89-41ca-f104-6209843b401e"
   },
   "outputs": [],
   "source": [
    "# matplotlib.rcParams['figure.figsize']  = 20,20\n",
    "# plot_tree(model,rankdir='LR',num_trees=19)"
   ]
  },
  {
   "cell_type": "code",
   "execution_count": null,
   "metadata": {
    "colab": {
     "base_uri": "https://localhost:8080/"
    },
    "id": "sxomVHT1WomI",
    "outputId": "25e094ac-7f20-4290-b709-db4aec02c6e8"
   },
   "outputs": [],
   "source": [
    "trees = model.get_booster().get_dump()\n",
    "print(trees[0])"
   ]
  },
  {
   "cell_type": "markdown",
   "metadata": {
    "id": "i8C6H-XnXHEQ"
   },
   "source": [
    "### Feature importance"
   ]
  },
  {
   "cell_type": "markdown",
   "metadata": {
    "id": "l7J3n40Js37t"
   },
   "source": [
    "Let's create a new data frame which contains the fields and their respective Importance given by the model"
   ]
  },
  {
   "cell_type": "code",
   "execution_count": null,
   "metadata": {
    "id": "uSK1C8UMXFPs"
   },
   "outputs": [],
   "source": [
    "importance_df = pd.DataFrame({\n",
    "    'Feature' : numeric_col+enc_col,\n",
    "    'Importance':model.feature_importances_\n",
    "}).sort_values('Importance',ascending=False)"
   ]
  },
  {
   "cell_type": "code",
   "execution_count": null,
   "metadata": {
    "colab": {
     "base_uri": "https://localhost:8080/",
     "height": 710
    },
    "id": "B1XyiT9AXZNm",
    "outputId": "dff9e5dd-cbb7-4d39-ea3f-ff0fcb19257d"
   },
   "outputs": [],
   "source": [
    "matplotlib.rcParams['figure.figsize'] = 10,10\n",
    "sns.barplot((importance_df['Feature'], importance_df['Importance']))"
   ]
  },
  {
   "cell_type": "markdown",
   "metadata": {
    "id": "TrmXXkdEXqhk"
   },
   "source": [
    "We can see that dropoff_longitude has the most importance given by the model"
   ]
  },
  {
   "cell_type": "markdown",
   "metadata": {
    "id": "Sk3foYv5XyIr"
   },
   "source": [
    "## Hyperparameter tuning"
   ]
  },
  {
   "cell_type": "markdown",
   "metadata": {
    "id": "LvSAegxbsipQ"
   },
   "source": [
    "Now we have created a model, next we have to tune the model using the parameters so that we can reduce the loss\n",
    "Refer:https://towardsdatascience.com/xgboost-fine-tune-and-optimize-your-model-23d996fab663"
   ]
  },
  {
   "cell_type": "markdown",
   "metadata": {
    "id": "-049qDljYvTD"
   },
   "source": [
    "### max_depth"
   ]
  },
  {
   "cell_type": "code",
   "execution_count": null,
   "metadata": {
    "id": "YEP-yMQkXp3i"
   },
   "outputs": [],
   "source": [
    "def test_param(**params):\n",
    "  model = XGBRegressor(n_jobs=-1,random_state=42,**params)\n",
    "  model.fit(x_train,train_targets)\n",
    "  train_rmse = mean_squared_error(model.predict(x_train),train_targets,squared=False)\n",
    "  val_rmse = mean_squared_error(model.predict(x_val),val_targets,squared=False)\n",
    "  print(train_rmse,\" \",val_rmse)\n",
    "  return train_rmse,val_rmse"
   ]
  },
  {
   "cell_type": "code",
   "execution_count": null,
   "metadata": {
    "id": "6MUFBZraY0Ac"
   },
   "outputs": [],
   "source": [
    "def test_param_and_plot(param_name, param_values):\n",
    "    train_errors, val_errors = [], [] \n",
    "    for value in param_values:\n",
    "        params = {param_name: value}\n",
    "        train_rmse, val_rmse = test_param(**params)\n",
    "        train_errors.append(train_rmse)\n",
    "        val_errors.append(val_rmse)\n",
    "    plt.figure(figsize=(10,6))\n",
    "    plt.title('Overfitting curve: ' + param_name)\n",
    "    plt.plot(param_values, train_errors, 'b-o')\n",
    "    plt.plot(param_values, val_errors, 'r-o')\n",
    "    plt.xlabel(param_name)\n",
    "    plt.ylabel('RMSE')\n",
    "    plt.legend(['Training', 'Validation'])"
   ]
  },
  {
   "cell_type": "code",
   "execution_count": null,
   "metadata": {
    "colab": {
     "base_uri": "https://localhost:8080/"
    },
    "id": "o70FUpHbYOY3",
    "outputId": "1606158f-3c74-4af1-f281-c7b8ab11062a"
   },
   "outputs": [],
   "source": [
    "test_param(max_depth=2)"
   ]
  },
  {
   "cell_type": "code",
   "execution_count": null,
   "metadata": {
    "colab": {
     "base_uri": "https://localhost:8080/"
    },
    "id": "osTiFQvLYRP9",
    "outputId": "c087cf41-5287-4307-f65f-38f502504043"
   },
   "outputs": [],
   "source": [
    "test_param(max_depth=5)"
   ]
  },
  {
   "cell_type": "code",
   "execution_count": null,
   "metadata": {
    "colab": {
     "base_uri": "https://localhost:8080/"
    },
    "id": "jtghP9D8Yr5j",
    "outputId": "6263efe5-f6ba-4cb6-ea7a-55f09729bac5"
   },
   "outputs": [],
   "source": [
    "test_param(max_depth=10)"
   ]
  },
  {
   "cell_type": "code",
   "execution_count": null,
   "metadata": {
    "colab": {
     "base_uri": "https://localhost:8080/",
     "height": 774
    },
    "id": "ZaVR9AqlZTok",
    "outputId": "2fb0c6bf-ea80-402d-bbe5-0a4f136a3090"
   },
   "outputs": [],
   "source": [
    "#test_param_and_plot('max_depth',[x for x in range(0,60,10)])"
   ]
  },
  {
   "cell_type": "markdown",
   "metadata": {
    "id": "WueNon6HeP25"
   },
   "source": [
    "### n_estimators"
   ]
  },
  {
   "cell_type": "code",
   "execution_count": null,
   "metadata": {
    "colab": {
     "base_uri": "https://localhost:8080/"
    },
    "id": "7VRXNiSveRsd",
    "outputId": "57bd601d-fa92-4cc7-cc50-123d07d38ee6"
   },
   "outputs": [],
   "source": [
    "test_param(n_estimators=10)"
   ]
  },
  {
   "cell_type": "code",
   "execution_count": null,
   "metadata": {
    "colab": {
     "base_uri": "https://localhost:8080/"
    },
    "id": "cClzUPiLea-n",
    "outputId": "6ed9ee8e-199d-4bcb-9e78-4c0375f7a88a"
   },
   "outputs": [],
   "source": [
    "test_param(n_estimators=20)"
   ]
  },
  {
   "cell_type": "code",
   "execution_count": null,
   "metadata": {
    "colab": {
     "base_uri": "https://localhost:8080/"
    },
    "id": "p3MA5usxed9-",
    "outputId": "5df9acda-ebff-40af-9d3d-54d350ce2568"
   },
   "outputs": [],
   "source": [
    "test_param(n_estimators=30)"
   ]
  },
  {
   "cell_type": "code",
   "execution_count": null,
   "metadata": {
    "colab": {
     "base_uri": "https://localhost:8080/"
    },
    "id": "ovlge4w-elPz",
    "outputId": "7c0aed8f-d0dd-4f25-e448-d39db19bba9a"
   },
   "outputs": [],
   "source": [
    "test_param(n_estimators=40)"
   ]
  },
  {
   "cell_type": "code",
   "execution_count": null,
   "metadata": {
    "colab": {
     "base_uri": "https://localhost:8080/"
    },
    "id": "b8CHSJEteoL8",
    "outputId": "87332bf3-c3b5-4bcc-cc0d-ff9eaf2ad876"
   },
   "outputs": [],
   "source": [
    "test_param(n_estimators=50)"
   ]
  },
  {
   "cell_type": "code",
   "execution_count": null,
   "metadata": {
    "colab": {
     "base_uri": "https://localhost:8080/"
    },
    "id": "_yF3SdJufIDB",
    "outputId": "49752c8b-8a71-49b4-d65b-558ae3e2e00c"
   },
   "outputs": [],
   "source": [
    "test_param(n_estimators=50,max_depth=30)"
   ]
  },
  {
   "cell_type": "code",
   "execution_count": null,
   "metadata": {
    "colab": {
     "base_uri": "https://localhost:8080/"
    },
    "id": "A-0u56iufNCo",
    "outputId": "62cff6ec-7fa1-4766-a547-2429ef1baa64"
   },
   "outputs": [],
   "source": [
    "test_param(n_estimators=60,max_depth=30)"
   ]
  },
  {
   "cell_type": "code",
   "execution_count": null,
   "metadata": {
    "colab": {
     "base_uri": "https://localhost:8080/",
     "height": 741
    },
    "id": "EvAcoQq6eq36",
    "outputId": "a69a1633-573d-4bcd-f962-817939c6f4b7"
   },
   "outputs": [],
   "source": [
    "test_param_and_plot('n_estimators',[x for x in range(100,1100,100)])"
   ]
  },
  {
   "cell_type": "markdown",
   "metadata": {
    "id": "Of81PHg_fVKM"
   },
   "source": [
    "### learning_rate"
   ]
  },
  {
   "cell_type": "code",
   "execution_count": null,
   "metadata": {
    "colab": {
     "base_uri": "https://localhost:8080/"
    },
    "id": "NpwVV04VfYLu",
    "outputId": "0b3246c7-ee58-4634-818b-73ac5553646f"
   },
   "outputs": [],
   "source": [
    "test_param(learning_rate=0.01)"
   ]
  },
  {
   "cell_type": "code",
   "execution_count": null,
   "metadata": {
    "colab": {
     "base_uri": "https://localhost:8080/"
    },
    "id": "Bn-DxoQufcQ7",
    "outputId": "ff67cd6f-75e9-44b5-d1ad-06b4703e80c5"
   },
   "outputs": [],
   "source": [
    "test_param(learning_rate=0.1)"
   ]
  },
  {
   "cell_type": "code",
   "execution_count": null,
   "metadata": {
    "colab": {
     "base_uri": "https://localhost:8080/"
    },
    "id": "U1KjPfgdfdNk",
    "outputId": "be7eb94f-64ae-47ac-fd5e-68f092c8b35b"
   },
   "outputs": [],
   "source": [
    "test_param(learning_rate=0.3)"
   ]
  },
  {
   "cell_type": "code",
   "execution_count": null,
   "metadata": {
    "colab": {
     "base_uri": "https://localhost:8080/"
    },
    "id": "uriLkEaSfevF",
    "outputId": "8d5b68c0-424e-4a20-de10-646b315b26a9"
   },
   "outputs": [],
   "source": [
    "test_param(learning_rate=0.5)"
   ]
  },
  {
   "cell_type": "code",
   "execution_count": null,
   "metadata": {
    "colab": {
     "base_uri": "https://localhost:8080/"
    },
    "id": "MhnS6WtigQ7S",
    "outputId": "f157cdb1-d7cc-4ad5-b26d-88671d3dcf90"
   },
   "outputs": [],
   "source": [
    "test_param(learning_rate=0.9)"
   ]
  },
  {
   "cell_type": "code",
   "execution_count": null,
   "metadata": {
    "colab": {
     "base_uri": "https://localhost:8080/"
    },
    "id": "au0VpP-mghtV",
    "outputId": "e0915674-1b2a-4045-b862-571dbc8496e3"
   },
   "outputs": [],
   "source": [
    "test_param(learning_rate=1)"
   ]
  },
  {
   "cell_type": "code",
   "execution_count": null,
   "metadata": {
    "colab": {
     "base_uri": "https://localhost:8080/"
    },
    "id": "99sIeeP7fj-r",
    "outputId": "bfd1f5bc-f6d1-4638-bc2e-2f1ea853cd79"
   },
   "outputs": [],
   "source": [
    "test_param(learning_rate=1,max_depth=60,n_estimators=60)"
   ]
  },
  {
   "cell_type": "code",
   "execution_count": null,
   "metadata": {
    "colab": {
     "base_uri": "https://localhost:8080/"
    },
    "id": "RaKZCN4mf14N",
    "outputId": "aa1a6212-8c48-4aae-e574-0e58c5bb4c9d"
   },
   "outputs": [],
   "source": [
    "test_param(learning_rate=1,max_depth=60,n_estimators=100)"
   ]
  },
  {
   "cell_type": "markdown",
   "metadata": {
    "id": "X9DI9TDEf87C"
   },
   "source": [
    "### booster"
   ]
  },
  {
   "cell_type": "code",
   "execution_count": null,
   "metadata": {
    "colab": {
     "base_uri": "https://localhost:8080/"
    },
    "id": "TImYntLkgBOS",
    "outputId": "46f96fe7-d608-4525-b657-6c900d5546cc"
   },
   "outputs": [],
   "source": [
    "test_param(booster='gblinear')"
   ]
  },
  {
   "cell_type": "code",
   "execution_count": null,
   "metadata": {
    "colab": {
     "base_uri": "https://localhost:8080/"
    },
    "id": "boFn5B-QgI6I",
    "outputId": "d51ff438-4f39-4856-8262-46f2401ba163"
   },
   "outputs": [],
   "source": [
    "test_param(booster='gblinear', max_depth=60, n_estimators=100, learning_rate=1)"
   ]
  },
  {
   "cell_type": "code",
   "execution_count": null,
   "metadata": {
    "colab": {
     "base_uri": "https://localhost:8080/"
    },
    "id": "_EXOX64lgw7g",
    "outputId": "7dd5cdde-b833-4cb6-e1e7-f3fc0a89ad7e"
   },
   "outputs": [],
   "source": [
    "test_param(booster='gbtree',max_depth=60,n_estimators=100,learning_rate=1)"
   ]
  },
  {
   "cell_type": "markdown",
   "metadata": {
    "id": "4RYt0Xt4hk63"
   },
   "source": [
    "## Putting it together"
   ]
  },
  {
   "cell_type": "code",
   "execution_count": null,
   "metadata": {
    "id": "xskwOe3chnSo"
   },
   "outputs": [],
   "source": [
    "model = XGBRegressor(n_jobs=-1,random_state=42,max_depth=60,n_estimaotrs=100,learning_rate=0.9,booster='gbtree')"
   ]
  },
  {
   "cell_type": "code",
   "execution_count": null,
   "metadata": {
    "colab": {
     "base_uri": "https://localhost:8080/"
    },
    "id": "SHxNkxvLhxTZ",
    "outputId": "339d3966-66d1-4b6d-9170-abd28ccaa4c8"
   },
   "outputs": [],
   "source": [
    "model.fit(x_train,train_targets)"
   ]
  },
  {
   "cell_type": "code",
   "execution_count": null,
   "metadata": {
    "colab": {
     "base_uri": "https://localhost:8080/"
    },
    "id": "-WOC7uoSiMaD",
    "outputId": "799ff0a3-a249-47c6-c904-f91c2ca5ccfe"
   },
   "outputs": [],
   "source": [
    "mean_squared_error(model.predict(x_train),train_targets,squared=False)"
   ]
  },
  {
   "cell_type": "code",
   "execution_count": null,
   "metadata": {
    "colab": {
     "base_uri": "https://localhost:8080/"
    },
    "id": "OBQzCPaViW4-",
    "outputId": "8e452711-cced-4321-e9f3-9838f75f1b7f"
   },
   "outputs": [],
   "source": [
    "mean_squared_error(model.predict(x_val),val_targets,squared=False)"
   ]
  },
  {
   "cell_type": "code",
   "execution_count": null,
   "metadata": {
    "colab": {
     "base_uri": "https://localhost:8080/"
    },
    "id": "jBzY8udKie_I",
    "outputId": "8f83acde-004b-4b6c-8948-2e57d8699ddc"
   },
   "outputs": [],
   "source": [
    "mean_squared_error(model.predict(x_test),test_targets,squared=False)"
   ]
  },
  {
   "cell_type": "markdown",
   "metadata": {
    "id": "MzeCysQ2nNDj"
   },
   "source": [
    "## Making predictions on new inputs"
   ]
  },
  {
   "cell_type": "markdown",
   "metadata": {
    "id": "Glly_qAgnTn5"
   },
   "source": [
    "Let's  define a helper function which takes in a model and a input and then computes the trip duration"
   ]
  },
  {
   "cell_type": "code",
   "execution_count": null,
   "metadata": {
    "id": "MwKruSLdmnhP"
   },
   "outputs": [],
   "source": [
    "# from scikit import imputer\n",
    "from sklearn.impute import SimpleImputer\n",
    "imputer = SimpleImputer(missing_values=np.nan, strategy='mean')\n",
    "\n",
    "def predict_input(model, single_input):\n",
    "    input_df = pd.DataFrame([single_input])\n",
    "    imputer.fit(input_df[numeric_col])\n",
    "    input_df[numeric_col] = imputer.transform(input_df[numeric_col])\n",
    "    input_df[numeric_col] = scaler.transform(input_df[numeric_col])\n",
    "    input_df[enc_col] = encoder.transform(input_df[cate_col])\n",
    "    X_input = input_df[numeric_col + enc_col]\n",
    "    pred = model.predict(X_input)[0]\n",
    "    return pred"
   ]
  },
  {
   "cell_type": "code",
   "execution_count": null,
   "metadata": {
    "colab": {
     "base_uri": "https://localhost:8080/"
    },
    "id": "DHApU43vlFMd",
    "outputId": "5ad35c2c-c61d-4d84-c041-d0a6182b5d2b",
    "tags": []
   },
   "outputs": [],
   "source": [
    "inp = {\n",
    "    'vendor_id':1,\n",
    "    'pickup_at':'2016-04-01 13:39:13.964110080',\n",
    "    'dropoff_at':'2016-04-01 14:00:13.964110080',    \n",
    "    'passenger_count':6,\n",
    "    # 'pickup_latitude':40.7,\n",
    "    # 'dropoff_longitude':-73,\n",
    "    # 'dropoff_latitude':40.7,\n",
    "    'store_and_fwd_flag':'N',\n",
    "    'store_and_fwd_flag_N':1,\n",
    "    'store_and_fwd_flag_Y':0\n",
    "}\n",
    "predict_input(model,inp)"
   ]
  },
  {
   "cell_type": "markdown",
   "metadata": {
    "id": "VlgxGI06nAnx"
   },
   "source": [
    "So from the given input it's seen that the predicted durationn time 318.1897 seconds"
   ]
  }
 ],
 "metadata": {
  "accelerator": "GPU",
  "colab": {
   "collapsed_sections": [],
   "name": "NYC_Taxi_Trip_duration_Prediction.ipynb",
   "provenance": []
  },
  "instance_type": "ml.t3.medium",
  "kernelspec": {
   "display_name": "Python 3 (Data Science)",
   "language": "python",
   "name": "python3__SAGEMAKER_INTERNAL__arn:aws:sagemaker:us-east-1:081325390199:image/datascience-1.0"
  },
  "language_info": {
   "codemirror_mode": {
    "name": "ipython",
    "version": 3
   },
   "file_extension": ".py",
   "mimetype": "text/x-python",
   "name": "python",
   "nbconvert_exporter": "python",
   "pygments_lexer": "ipython3",
   "version": "3.7.10"
  }
 },
 "nbformat": 4,
 "nbformat_minor": 4
}
