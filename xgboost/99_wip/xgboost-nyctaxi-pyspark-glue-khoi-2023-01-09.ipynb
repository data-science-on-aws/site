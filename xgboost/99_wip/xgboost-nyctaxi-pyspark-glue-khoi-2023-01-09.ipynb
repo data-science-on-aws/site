{
 "cells": [
  {
   "cell_type": "markdown",
   "id": "cd758f9b-126f-45ff-a124-94f83d41126f",
   "metadata": {
    "tags": []
   },
   "source": [
    "# Proposed Solution 1:  SageMaker + Glue Interactive Sessions"
   ]
  },
  {
   "cell_type": "code",
   "execution_count": null,
   "id": "8f759e14-cbe3-416f-9e06-833e4dcadef9",
   "metadata": {
    "tags": []
   },
   "outputs": [],
   "source": [
    "%stop_session"
   ]
  },
  {
   "cell_type": "code",
   "execution_count": null,
   "id": "a0a4d8f0-24ac-49b6-9888-7915b9ecba01",
   "metadata": {
    "tags": []
   },
   "outputs": [],
   "source": [
    "%glue_version 3.0\n",
    "%number_of_workers 10\n",
    "%additional_python_modules xgboost==1.7.2"
   ]
  },
  {
   "cell_type": "code",
   "execution_count": null,
   "id": "cb85f42c-a088-4130-9196-ada472b9dc0b",
   "metadata": {
    "tags": []
   },
   "outputs": [],
   "source": [
    "import sys\n",
    "\n",
    "print(sys.version)"
   ]
  },
  {
   "cell_type": "code",
   "execution_count": null,
   "id": "140881d0-45e8-40d9-b619-95994ddcb230",
   "metadata": {
    "tags": []
   },
   "outputs": [],
   "source": [
    "from xgboost.spark import SparkXGBRegressor"
   ]
  },
  {
   "cell_type": "code",
   "execution_count": null,
   "id": "02211132-5bf5-4ea8-accb-550ed0581551",
   "metadata": {
    "tags": []
   },
   "outputs": [],
   "source": [
    "%help"
   ]
  },
  {
   "cell_type": "code",
   "execution_count": null,
   "id": "46e77789-a46c-4afc-813d-944418cdeb5d",
   "metadata": {
    "tags": []
   },
   "outputs": [],
   "source": [
    "import sys\n",
    "\n",
    "print(sys.version)"
   ]
  },
  {
   "cell_type": "code",
   "execution_count": null,
   "id": "25994956-6de9-459a-9cdd-9b293723e715",
   "metadata": {
    "tags": []
   },
   "outputs": [],
   "source": [
    "# %pip list | grep xgboost"
   ]
  },
  {
   "cell_type": "code",
   "execution_count": null,
   "id": "717d8f52-543a-4960-b7a4-9b2daa7a3128",
   "metadata": {
    "tags": []
   },
   "outputs": [],
   "source": [
    "# %pip install xgboost==1.7.1"
   ]
  },
  {
   "cell_type": "code",
   "execution_count": null,
   "id": "7e71dc77-a790-4664-b767-058245ef18cb",
   "metadata": {
    "tags": []
   },
   "outputs": [],
   "source": [
    "# %pip list | grep xgboost"
   ]
  },
  {
   "cell_type": "code",
   "execution_count": null,
   "id": "08363097-99f3-4aa8-9ce4-a937727c979b",
   "metadata": {
    "tags": []
   },
   "outputs": [],
   "source": [
    "# %additional_python_modules xgboost==1.7.1 xgboost_ray\n",
    "# %number_of_workers 10"
   ]
  },
  {
   "cell_type": "code",
   "execution_count": null,
   "id": "bfba78f2-6a80-4046-9f95-4291aef3bf15",
   "metadata": {
    "tags": []
   },
   "outputs": [],
   "source": [
    "import sys\n",
    "\n",
    "print(sys.version)"
   ]
  },
  {
   "cell_type": "code",
   "execution_count": null,
   "id": "3b14d7cb-8ee7-4d48-ae23-bafc524f1a21",
   "metadata": {
    "tags": []
   },
   "outputs": [],
   "source": [
    "from xgboost.spark import SparkXGBRegressor\n"
   ]
  },
  {
   "cell_type": "code",
   "execution_count": null,
   "id": "5c6c0f38-453a-4fbc-a605-4eee37025792",
   "metadata": {
    "tags": []
   },
   "outputs": [],
   "source": [
    "# # Enabling Adaptive Query Execution for Spark 3 to maybe improve performance\n",
    "# spark.conf.set(\"spark.sql.adaptive.enabled\",True)"
   ]
  },
  {
   "cell_type": "code",
   "execution_count": null,
   "id": "95ced67c-15e2-4a91-b461-5d0d95181d18",
   "metadata": {
    "tags": []
   },
   "outputs": [],
   "source": [
    "# import boto3\n",
    "# def list_s3_files_in_folder_using_client(bucket_name, prefix):\n",
    "#     \"\"\"\n",
    "#     This function will list down all files in a folder from S3 bucket\n",
    "#     :return: None\n",
    "#     \"\"\"\n",
    "#     s3_client = boto3.client(\"s3\")\n",
    "#     # bucket_name = \"testbucket-frompython-2\"\n",
    "#     response = s3_client.list_objects_v2(Bucket=bucket_name, Prefix=prefix)\n",
    "#     files = response.get(\"Contents\")\n",
    "#     for file in files:\n",
    "#         print(f\"file_name: {file['Key']}, size: {(file['Size']/1_000_000):,} MB\")\n",
    "        "
   ]
  },
  {
   "cell_type": "code",
   "execution_count": null,
   "id": "b8c50f80-7014-4017-ba73-08e344ef20ea",
   "metadata": {
    "tags": []
   },
   "outputs": [],
   "source": [
    "# list_s3_files_in_folder_using_client('dsoaws', 'nyc-taxi-orig-cleaned-split-parquet-per-year')"
   ]
  },
  {
   "cell_type": "code",
   "execution_count": null,
   "id": "3bc228da-a391-4044-bd42-943ef0fa2d46",
   "metadata": {
    "tags": []
   },
   "outputs": [],
   "source": [
    "# df_fare = spark.read.option(\"recursiveFileLookup\", \"true\").parquet(\"s3://dsoaws/nyc-taxi-orig-cleaned-split-parquet-per-year/ride-fare/year=2019\")\n",
    "\n",
    "# # The following command caches the DataFrame in memory. This improves performance since subsequent calls to the DataFrame can read from memory instead of re-reading the data from disk.\n",
    "# #df.cache()"
   ]
  },
  {
   "cell_type": "code",
   "execution_count": null,
   "id": "15f3c010-f855-4fdf-b501-d52fab8f1a83",
   "metadata": {
    "tags": []
   },
   "outputs": [],
   "source": [
    "# #df.repartition(1).write.option(\"overwrite\", \"true\").option(\"header\", \"true\").csv(\"s3://dsoaws/nyc-taxi-csv/\")\n",
    "# df.repartition(1).write.option(\"overwrite\", \"true\").parquet(\"s3://dsoaws/nyc-taxi-single-parquet-all/\")"
   ]
  },
  {
   "cell_type": "code",
   "execution_count": null,
   "id": "28c4c3e4-d2ec-4704-84d4-8b0704f67d98",
   "metadata": {},
   "outputs": [],
   "source": [
    "# df_fare.show(10)"
   ]
  },
  {
   "cell_type": "code",
   "execution_count": null,
   "id": "ad669ca1-d8ce-4c02-b4a8-0986bb1effb3",
   "metadata": {},
   "outputs": [],
   "source": [
    "# print(f\"The dataset (ride-fare) has {df_fare.count():,} rows.\")"
   ]
  },
  {
   "cell_type": "code",
   "execution_count": null,
   "id": "84e7b141-ab6e-4d8d-b6b2-fecc2b08cb8c",
   "metadata": {
    "tags": []
   },
   "outputs": [],
   "source": [
    "df_info = spark.read.option(\"recursiveFileLookup\", \"true\").parquet(\"s3://dsoaws/nyc-taxi-orig-cleaned-split-parquet-per-year/ride-info/year=2019\")\n",
    "df_info.show(10)\n",
    "print(f\"The dataset (ride-info) has {df_info.count():,} rows.\")"
   ]
  },
  {
   "cell_type": "code",
   "execution_count": null,
   "id": "837c65a6-b458-4bbc-a839-0804fbe18c8e",
   "metadata": {
    "tags": []
   },
   "outputs": [],
   "source": [
    "# Join data based on ride_id\n",
    "df = df_fare.join(df_info, 'ride_id')\n",
    "df.show(10)\n",
    "print(f\"The dataset has {df.count():,} rows.\")"
   ]
  },
  {
   "cell_type": "markdown",
   "id": "50a111bc-5b93-4c88-a27c-339c5cf68df0",
   "metadata": {},
   "source": [
    "## Preprocess data\n",
    "\n",
    "The goal is to predict the `total_amount` (typically called the `fare`) of each ride.  To simplify the pre-processing, we may want to drop certain features like `pickup_at` and `dropoff_at` since taxi fares do not depend on the time of day, typically (unlike ride-share fares like Uber and Lyft).\n",
    "\n",
    "We may also want to drop unused fields like `store_and_fwd_flag` which is an edge case where the taxi-meter was disconnected during the trip.  This should not impact the fare.\n",
    "\n",
    "TODO:  Describe why we should drop the `rate_code_id` - or otherwise explain how it could be used.\n",
    "\n",
    "Lastly, the `payment_type` are not useful for this predictive model as the fare should not depend on how the user is paying."
   ]
  },
  {
   "cell_type": "code",
   "execution_count": null,
   "id": "a1785473-b897-47bd-9e42-5ebe6238aa93",
   "metadata": {
    "tags": []
   },
   "outputs": [],
   "source": [
    "#Count of null for all columns\n",
    "from pyspark.sql.functions import col, when, count\n",
    "df.select([count(when(col(c).isNull() , c)).alias(c) for c in df.columns]\n",
    "   ).show()"
   ]
  },
  {
   "cell_type": "code",
   "execution_count": null,
   "id": "6fb34c52-6799-4e35-94c6-62b640dfcf9f",
   "metadata": {},
   "outputs": [],
   "source": [
    "# Data type timestamp of column pickup_at is not supported.\n",
    "# Data type timestamp of column dropoff_at is not supported.\n",
    "# Data type string of column rate_code_id is not supported.\n",
    "# Data type string of column store_and_fwd_flag is not supported.\n",
    "# Data type string of column payment_type is not supported.\n"
   ]
  },
  {
   "cell_type": "code",
   "execution_count": null,
   "id": "8a76647a-552b-4d8c-91c0-4e80358d54b9",
   "metadata": {},
   "outputs": [],
   "source": [
    "df.printSchema()"
   ]
  },
  {
   "cell_type": "markdown",
   "id": "938e752a-10dc-4637-81f2-a5f50b606089",
   "metadata": {},
   "source": [
    "#### Split data into training and test sets\n",
    "\n",
    "Randomly split data into training and test sets. By doing this, you can train and tune the model using only the training subset, and then evaluate the model's performance on the test set to get a sense of how the model will perform on new data. "
   ]
  },
  {
   "cell_type": "code",
   "execution_count": null,
   "id": "df035902-5aeb-44e9-8615-91eb057a693d",
   "metadata": {},
   "outputs": [],
   "source": [
    "# Split the dataset randomly into 70% for training and 30% for testing. Passing a seed for deterministic behavior\n",
    "train, test = df.randomSplit([0.7, 0.3], seed = 0)\n",
    "print(f\"There are {train.count():,} training examples and {test.count():,} test examples.\")"
   ]
  },
  {
   "cell_type": "markdown",
   "id": "6e5e5d3e-1b3e-433b-96ae-0d049b9eb5ce",
   "metadata": {
    "tags": []
   },
   "source": [
    "#### Visualize the data\n",
    "You can plot the data to explore it visually. The following plot shows the number of bicycle rentals during each hour of the day.  As you might expect, rentals are low during the night, and peak at commute hours.  \n",
    "\n",
    "To create plots, call `display()` on a DataFrame in Databricks and click the plot icon below the table.\n",
    "\n",
    "To create the plot shown, run the command in the following cell. The results appear in a table. From the drop-down menu below the table, select \"Line\". Click **Plot Options...**. In the dialog, drag `hr` to the **Keys** field, and drag `cnt` to the **Values** field. Also in the **Keys** field, click the \"x\" next to `<id>` to remove it. In the **Aggregation** drop down, select \"AVG\". "
   ]
  },
  {
   "cell_type": "code",
   "execution_count": null,
   "id": "990a103e-55af-49c4-8d1b-e52eddba5a97",
   "metadata": {},
   "outputs": [],
   "source": [
    "train.select(\"passenger_count\", \"total_amount\").show()"
   ]
  },
  {
   "cell_type": "markdown",
   "id": "94f7818e-a114-411e-a01d-a1409b6d992e",
   "metadata": {},
   "source": [
    "## Linear Regression"
   ]
  },
  {
   "cell_type": "code",
   "execution_count": null,
   "id": "290cf446-dd9f-4ea1-990d-56cee25ff44e",
   "metadata": {
    "tags": []
   },
   "outputs": [],
   "source": [
    "# import numpy as np\n",
    "\n",
    "# def get_input_matrix(df):\n",
    "#     return np.column_stack((df.trip_distance, np.ones(df.count())))\n",
    "\n",
    "# train_X = get_input_matrix(train)\n",
    "# train_y = np.array(train['total_amount'])"
   ]
  },
  {
   "cell_type": "markdown",
   "id": "c49e01a9-387b-4b9c-a321-c0e0351e689b",
   "metadata": {},
   "source": [
    "## Train the machine learning pipeline\n",
    "\n",
    "Now that you have reviewed the data and prepared it as a DataFrame with numeric values, you're ready to train a model to predict future bike sharing rentals. \n",
    "\n",
    "Most MLlib algorithms require a single input column containing a vector of features and a single target column. The DataFrame currently has one column for each feature. MLlib provides functions to help you prepare the dataset in the required format.\n",
    "\n",
    "MLlib pipelines combine multiple steps into a single workflow, making it easier to iterate as you develop the model. \n",
    "\n",
    "In this example, you create a pipeline using the following functions:\n",
    "* `VectorAssembler`: Assembles the feature columns into a feature vector.\n",
    "* `VectorIndexer`: Identifies columns that should be treated as categorical. This is done heuristically, identifying any column with a small number of distinct values as categorical.\n",
    "* `SparkXGBRegressor`: Uses the [SparkXGBRegressor](https://xgboost.readthedocs.io/en/stable/python/python_api.html#xgboost.spark.SparkXGBRegressor) estimator to learn how to predict the fare from the feature vectors.\n",
    "* `CrossValidator`: The XGBoost regression algorithm has several hyperparameters. This notebook illustrates how to use [hyperparameter tuning in Spark](https://spark.apache.org/docs/latest/ml-tuning.html). This capability automatically tests a grid of hyperparameters and chooses the best resulting model.\n",
    "\n",
    "For more information:  \n",
    "[VectorAssembler](https://spark.apache.org/docs/latest/ml-features.html#vectorassembler)  \n",
    "[VectorIndexer](https://spark.apache.org/docs/latest/ml-features.html#vectorindexer)  "
   ]
  },
  {
   "cell_type": "markdown",
   "id": "ff1338e9-3b0a-4d12-96fe-a52f21df456d",
   "metadata": {
    "tags": []
   },
   "source": [
    "The first step is to create the VectorAssembler and VectorIndexer steps. "
   ]
  },
  {
   "cell_type": "code",
   "execution_count": null,
   "id": "305afd09-8492-49fc-aff1-5cdf8ab14e35",
   "metadata": {},
   "outputs": [],
   "source": [
    "from pyspark.ml.feature import VectorAssembler, VectorIndexer\n",
    "\n",
    "# Remove the target column from the input feature set.\n",
    "featuresCols = df.columns\n",
    "featuresCols.remove('total_amount')\n",
    "\n",
    "# vectorAssembler combines all feature columns into a single feature vector column, \"rawFeatures\".\n",
    "vectorAssembler = VectorAssembler(inputCols=featuresCols, outputCol=\"rawFeatures\", handleInvalid=\"skip\")\n",
    "\n",
    "# vectorIndexer identifies categorical features and indexes them, and creates a new column \"features\". \n",
    "vectorIndexer = VectorIndexer(inputCol=\"rawFeatures\", outputCol=\"features\", maxCategories=100, handleInvalid=\"skip\")"
   ]
  },
  {
   "cell_type": "markdown",
   "id": "a2756047-dd80-4d91-8b98-0c0c945f971e",
   "metadata": {},
   "source": [
    "Next, define the model. To use distributed training, set `num_workers` to the number of spark tasks you want to concurrently run during training xgboost model."
   ]
  },
  {
   "cell_type": "code",
   "execution_count": null,
   "id": "eba51df2-af90-4377-a461-52f8b80513c4",
   "metadata": {
    "tags": []
   },
   "outputs": [],
   "source": [
    "# !pip install pip xgboost==1.6 --upgrade"
   ]
  },
  {
   "cell_type": "code",
   "execution_count": null,
   "id": "132604db-c662-4a3f-9d99-8f3fc143c416",
   "metadata": {
    "tags": []
   },
   "outputs": [],
   "source": [
    "%help"
   ]
  },
  {
   "cell_type": "code",
   "execution_count": null,
   "id": "dc7aa1d1-ebe2-461c-a59a-e8a20efb8dd3",
   "metadata": {
    "tags": []
   },
   "outputs": [],
   "source": [
    "# %extra_jars ['spark-deep-learning-1.5.0-spark2.4-s_2.11.jar']    # does not work\n",
    "# %extra_jars ['s3://sagemaker-us-east-2-795321850195/sagemaker/spark-deep-learning-1.5.0-spark2.4-s_2.11.jar']\n",
    "%extra_jars s3://sagemaker-us-east-2-795321850195/sagemaker/spark-deep-learning-1.5.0-spark2.4-s_2.11.jar"
   ]
  },
  {
   "cell_type": "code",
   "execution_count": null,
   "id": "5f43c793-70c3-423c-b76f-98e7a663e290",
   "metadata": {
    "tags": []
   },
   "outputs": [],
   "source": [
    "!pip install sagemaker_pyspark"
   ]
  },
  {
   "cell_type": "code",
   "execution_count": null,
   "id": "b36e3f0b-b8f4-4b81-8c29-e212d58c0399",
   "metadata": {
    "tags": []
   },
   "outputs": [],
   "source": [
    "# # Then, to load the sagemaker jars programatically:\n",
    "\n",
    "# import sagemaker_pyspark\n",
    "# from pyspark.sql import SparkSession\n",
    "\n",
    "# classpath = \":\".join(sagemaker_pyspark.classpath_jars())\n",
    "# spark = SparkSession.builder.config(\"spark.driver.extraClassPath\", classpath).getOrCreate()"
   ]
  },
  {
   "cell_type": "code",
   "execution_count": null,
   "id": "c8e689dd-ee73-439b-8744-355298021b13",
   "metadata": {
    "tags": []
   },
   "outputs": [],
   "source": [
    "# %extra_jars ['https://mvnrepository.com/artifact/databricks/spark-deep-learning/1.5.0-spark2.4-s_2.11']\n",
    "# Khoi: 2023-01-06 Does not work"
   ]
  },
  {
   "cell_type": "code",
   "execution_count": null,
   "id": "f3401aef-836f-48d9-a1dd-66454bff4e1a",
   "metadata": {
    "tags": []
   },
   "outputs": [],
   "source": [
    "# Import libraries\n",
    "from pyspark.sql import SparkSession\n",
    "\n",
    "# Creating SparkSession\n",
    "spark = (SparkSession\n",
    "            .builder\n",
    "            .config('spark.jars.packages', 'databricks:spark-deep-learning:1.5.0-spark2.4-s_2.11')\n",
    "            .getOrCreate()\n",
    ")\n",
    "\n",
    "# Import Spar-Deep-Learning-Pipelines\n",
    "import sparkdl"
   ]
  },
  {
   "cell_type": "code",
   "execution_count": null,
   "id": "c662d890-48a9-49a4-93c3-56513eb98003",
   "metadata": {
    "tags": []
   },
   "outputs": [],
   "source": [
    "# !pip install sparkdl"
   ]
  },
  {
   "cell_type": "code",
   "execution_count": null,
   "id": "5f9d4255-4f21-4381-8a5d-3cc2947a7e29",
   "metadata": {
    "tags": []
   },
   "outputs": [],
   "source": [
    "# import findspark\n",
    "# findspark.init()\n",
    "\n",
    "# from pyspark.conf import SparkConf\n",
    "# from pyspark import SparkContext\n",
    "# conf = SparkConf().set(\"spark.jars\", \"spark-deep-learning-1.5.0-spark2.4-s_2.11.jar\")\n",
    "# conf.setAppName(\"ML\")\n",
    "# sc = SparkContext(conf=conf)\n",
    "\n",
    "# from pyspark.sql import SparkSession\n",
    "# spark = SparkSession(sc)\n",
    "\n",
    "# import sparkdl"
   ]
  },
  {
   "cell_type": "code",
   "execution_count": null,
   "id": "114001d2-4de8-4b7c-9e59-712ddcdfb657",
   "metadata": {
    "tags": []
   },
   "outputs": [],
   "source": [
    "# from sparkdl.xgboost import XgboostRegressor"
   ]
  },
  {
   "cell_type": "code",
   "execution_count": null,
   "id": "402684c3-2e60-450c-b3b1-3731c94bd936",
   "metadata": {
    "tags": []
   },
   "outputs": [],
   "source": [
    "import xgboost\n",
    "print(xgboost.__version__)"
   ]
  },
  {
   "cell_type": "code",
   "execution_count": null,
   "id": "e68298ff-4f9f-445f-9270-dfcbb5fb4e3e",
   "metadata": {},
   "outputs": [],
   "source": [
    "from xgboost.spark import SparkXGBRegressor\n",
    "\n",
    "# The next step is to define the model training stage of the pipeline. \n",
    "# The following command defines a XgboostRegressor model that takes an input column \"features\" by default and learns to predict the labels in the \"cnt\" column.\n",
    "# Set `num_workers` to the number of spark tasks you want to concurrently run during training xgboost model.\n",
    "# xgb_regressor = SparkXGBRegressor(num_workers=4, label_col=\"total_amount\", missing=0.0)\n",
    "\n",
    "xgb_regressor = SparkXGBRegressor(label_col=\"total_amount\", missing=0.0)"
   ]
  },
  {
   "cell_type": "markdown",
   "id": "28453fca-46f7-4440-92bc-e951a32aeda6",
   "metadata": {},
   "source": [
    "The third step is to wrap the model you just defined in a `CrossValidator` stage. `CrossValidator` calls the XgboostRegressor estimator with different hyperparameter settings. It trains multiple models and selects the best one, based on minimizing a specified metric. In this example, the metric is [root mean squared error (RMSE)](https://en.wikipedia.org/wiki/Root-mean-square_deviation).\n"
   ]
  },
  {
   "cell_type": "code",
   "execution_count": null,
   "id": "fb84b8ff-bf93-4aa9-bcdb-ae3157ff0205",
   "metadata": {},
   "outputs": [],
   "source": [
    "from pyspark.ml.tuning import CrossValidator, ParamGridBuilder\n",
    "from pyspark.ml.evaluation import RegressionEvaluator\n",
    "\n",
    "# Define a grid of hyperparameters to test:\n",
    "#  - maxDepth: maximum depth of each decision tree \n",
    "#  - maxIter: iterations, or the total number of trees \n",
    "paramGrid = ParamGridBuilder()\\\n",
    "  .addGrid(xgb_regressor.max_depth, [2, 5])\\\n",
    "  .addGrid(xgb_regressor.n_estimators, [10, 100])\\\n",
    "  .build()\n",
    "\n",
    "# Define an evaluation metric.  The CrossValidator compares the true labels with predicted values for each combination of parameters, and calculates this value to determine the best model.\n",
    "evaluator = RegressionEvaluator(metricName=\"rmse\",\n",
    "                                labelCol=xgb_regressor.getLabelCol(),\n",
    "                                predictionCol=xgb_regressor.getPredictionCol())\n",
    "\n",
    "# Declare the CrossValidator, which performs the model tuning.\n",
    "cv = CrossValidator(estimator=xgb_regressor, evaluator=evaluator, estimatorParamMaps=paramGrid)"
   ]
  },
  {
   "cell_type": "markdown",
   "id": "2a5b7e91-13b6-44b0-9d1e-f61352d03dc0",
   "metadata": {},
   "source": [
    "Create the pipeline."
   ]
  },
  {
   "cell_type": "code",
   "execution_count": null,
   "id": "efd438a1-a865-4d45-867e-3aa57e69c785",
   "metadata": {},
   "outputs": [],
   "source": [
    "from pyspark.ml import Pipeline\n",
    "pipeline = Pipeline(stages=[vectorAssembler, vectorIndexer, cv])"
   ]
  },
  {
   "cell_type": "markdown",
   "id": "c1d6dad4-fbe4-4857-906d-f8df990f95af",
   "metadata": {},
   "source": [
    "Train the pipeline.\n",
    "\n",
    "Now that you have set up the workflow, you can train the pipeline with a single call.  \n",
    "When you call `fit()`, the pipeline runs feature processing, model tuning, and training and returns a fitted pipeline with the best model it found.\n",
    "This step takes several minutes."
   ]
  },
  {
   "cell_type": "code",
   "execution_count": null,
   "id": "5e302f1b-fd31-4ef4-b1a8-430fcd497f44",
   "metadata": {},
   "outputs": [],
   "source": [
    "pipelineModel = pipeline.fit(train)"
   ]
  },
  {
   "cell_type": "markdown",
   "id": "99e71c1f-04f4-424d-99d2-25c8d56a4a06",
   "metadata": {
    "tags": []
   },
   "source": [
    "## Make predictions and evaluate results\n",
    "\n",
    "The final step is to use the fitted model to make predictions on the test dataset and evaluate the model's performance. The model's performance on the test dataset provides an approximation of how it is likely to perform on new data.\n",
    "\n",
    "Computing evaluation metrics is important for understanding the quality of predictions, as well as for comparing models and tuning parameters."
   ]
  },
  {
   "cell_type": "markdown",
   "id": "a2b867d2-0214-4cc4-ac4a-36b74673a60d",
   "metadata": {},
   "source": [
    "The `transform()` method of the pipeline model applies the full pipeline to the input dataset. The pipeline applies the feature processing steps to the dataset and then uses the fitted XGBoost Regressor model to make predictions. The pipeline returns a DataFrame with a new column `predictions`."
   ]
  },
  {
   "cell_type": "code",
   "execution_count": null,
   "id": "c1b74c4d-a463-408d-8672-0dce534e2094",
   "metadata": {},
   "outputs": [],
   "source": [
    "predictions = pipelineModel.transform(test)"
   ]
  },
  {
   "cell_type": "code",
   "execution_count": null,
   "id": "7710abfa-dd12-435d-973b-3858554d48ee",
   "metadata": {},
   "outputs": [],
   "source": [
    "predictions.select(\"total_amount\", \"prediction\", *featuresCols).show()"
   ]
  },
  {
   "cell_type": "markdown",
   "id": "03c63c20-40c4-420e-a0ff-c7722b48a0a2",
   "metadata": {},
   "source": [
    "A common way to evaluate the performance of a regression model is the calculate the [root mean squared error (RMSE)](https://spark.apache.org/docs/latest/mllib-evaluation-metrics.html#regression-model-evaluation). The value is not very informative on its own, but you can use it to compare different models. `CrossValidator` determines the best model by selecting the one that minimizes RMSE. "
   ]
  },
  {
   "cell_type": "code",
   "execution_count": null,
   "id": "e2336942-8379-426d-98d8-a521cce9813c",
   "metadata": {},
   "outputs": [],
   "source": [
    "rmse = evaluator.evaluate(predictions)\n",
    "print(\"RMSE on our test set: %g\" % rmse)"
   ]
  },
  {
   "cell_type": "markdown",
   "id": "b173ff26-842c-45e1-9137-2597067341d9",
   "metadata": {},
   "source": [
    "You can also plot the results, as you did the original dataset. In this case, the hourly count of rentals shows a similar shape."
   ]
  },
  {
   "cell_type": "code",
   "execution_count": null,
   "id": "9c10959c-0e27-4bbb-b91e-a28f2b36aaca",
   "metadata": {},
   "outputs": [],
   "source": [
    "predictions.select(\"passenger_count\", \"prediction\").show()"
   ]
  },
  {
   "cell_type": "markdown",
   "id": "57286f1f-94d4-4b59-84e3-0fabbfdb9ede",
   "metadata": {},
   "source": [
    "## Save and reload the model\n"
   ]
  },
  {
   "cell_type": "code",
   "execution_count": null,
   "id": "e7201b49-2980-481c-aae6-db648fd3e4a5",
   "metadata": {},
   "outputs": [],
   "source": [
    "%sh\n",
    "rm -rf /dbfs/tmp/xgboost/pipeline_001\n",
    "rm -rf /dbfs/tmp/xgboost/pipelineModel_001"
   ]
  },
  {
   "cell_type": "code",
   "execution_count": null,
   "id": "932095f4-be51-44ac-abcb-b40b3f394814",
   "metadata": {},
   "outputs": [],
   "source": [
    "# Save the pipeline that created the model\n",
    "pipeline.save('/tmp/xgboost/pipeline_001')\n",
    "\n",
    "# Save the model itself\n",
    "pipelineModel.save('/tmp/xgboost/pipelineModel_001')"
   ]
  },
  {
   "cell_type": "code",
   "execution_count": null,
   "id": "47ccea03-5c02-43da-94f9-e7041cde5454",
   "metadata": {},
   "outputs": [],
   "source": [
    "# Load the pipeline\n",
    "loaded_pipeline = Pipeline.load('/tmp/xgboost/pipeline_001')"
   ]
  },
  {
   "cell_type": "code",
   "execution_count": null,
   "id": "afa0bd1b-39de-4638-86fb-fdee21c84bc4",
   "metadata": {
    "tags": []
   },
   "outputs": [],
   "source": [
    "# Load and use the model\n",
    "from pyspark.ml import PipelineModel\n",
    "\n",
    "loaded_pipelineModel = PipelineModel.load('/tmp/xgboost/pipelineModel_001')\n",
    "\n",
    "# To represent new data, use the first 3 rows of the test dataset\n",
    "new_data = test.limit(3)\n",
    "\n",
    "# Make predictions with the loaded model\n",
    "new_preds = loaded_pipelineModel.transform(new_data)\n",
    "display(new_preds.select(\"total_amount\", \"prediction\", *featuresCols))"
   ]
  }
 ],
 "metadata": {
  "instance_type": "ml.t3.medium",
  "kernelspec": {
   "display_name": "Glue Python [PySpark and Ray] (SparkAnalytics 1.0)",
   "language": "python",
   "name": "conda-env-sm_glue_is-glue_pyspark__SAGEMAKER_INTERNAL__arn:aws:sagemaker:us-east-1:081325390199:image/sagemaker-sparkanalytics-v1"
  },
  "language_info": {
   "codemirror_mode": {
    "name": "python",
    "version": 3
   },
   "file_extension": ".py",
   "mimetype": "text/x-python",
   "name": "Python_Glue_Session",
   "pygments_lexer": "python3"
  }
 },
 "nbformat": 4,
 "nbformat_minor": 5
}
